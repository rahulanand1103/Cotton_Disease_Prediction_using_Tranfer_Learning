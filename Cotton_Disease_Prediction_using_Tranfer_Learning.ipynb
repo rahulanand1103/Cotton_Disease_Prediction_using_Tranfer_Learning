{
  "nbformat": 4,
  "nbformat_minor": 0,
  "metadata": {
    "colab": {
      "name": "Cotton Disease Prediction using Tranfer Learning.ipynb",
      "provenance": [],
      "collapsed_sections": []
    },
    "kernelspec": {
      "name": "python3",
      "display_name": "Python 3"
    },
    "language_info": {
      "name": "python"
    },
    "accelerator": "GPU"
  },
  "cells": [
    {
      "cell_type": "markdown",
      "metadata": {
        "id": "a2G_ZfJ12aOd"
      },
      "source": [
        "# Cotton Disease Prediction using Tranfer Learning"
      ]
    },
    {
      "cell_type": "markdown",
      "metadata": {
        "id": "td6dMlcL2jrb"
      },
      "source": [
        "## 1.Business Problem\n",
        "we have to classify the cotton plant <br>\n",
        "There are four category of data <br>\n",
        "1. Diseased Cotton Leaf\n",
        "2. Diseased Cotton Plant\n",
        "3. Fresh Cotton Leaf\n",
        "4. Fresh Cotton Plant"
      ]
    },
    {
      "cell_type": "code",
      "metadata": {
        "colab": {
          "base_uri": "https://localhost:8080/"
        },
        "id": "bFdb3b7AExOY",
        "outputId": "f8c18f16-60bc-446c-fdff-a0e8afae3c5d"
      },
      "source": [
        "cd drive/MyDrive/cotton\\ disease\\ data"
      ],
      "execution_count": 1,
      "outputs": [
        {
          "output_type": "stream",
          "text": [
            "/content/drive/MyDrive/cotton disease data\n"
          ],
          "name": "stdout"
        }
      ]
    },
    {
      "cell_type": "code",
      "metadata": {
        "colab": {
          "base_uri": "https://localhost:8080/"
        },
        "id": "ZslMKHGUGcVo",
        "outputId": "8becc0ab-c404-4a4e-add9-b25102dc5c76"
      },
      "source": [
        "!ls"
      ],
      "execution_count": 2,
      "outputs": [
        {
          "output_type": "stream",
          "text": [
            "test  train  val\n"
          ],
          "name": "stdout"
        }
      ]
    },
    {
      "cell_type": "code",
      "metadata": {
        "id": "z59JftY3GcKN"
      },
      "source": [
        "import tensorflow as tf\n",
        "from tensorflow.keras import Sequential\n",
        "from tensorflow.keras.layers import Flatten,Dense,Conv2D,MaxPool2D,ZeroPadding2D,Dropout\n",
        "from tensorflow.keras.preprocessing.image import ImageDataGenerator"
      ],
      "execution_count": 3,
      "outputs": []
    },
    {
      "cell_type": "code",
      "metadata": {
        "id": "f91-S8SpNC0Y",
        "colab": {
          "base_uri": "https://localhost:8080/"
        },
        "outputId": "a40d1167-0a5b-4ab0-f646-3dd51dcd0313"
      },
      "source": [
        "cd train/diseased\\ cotton\\ leaf"
      ],
      "execution_count": 4,
      "outputs": [
        {
          "output_type": "stream",
          "text": [
            "/content/drive/MyDrive/cotton disease data/train/diseased cotton leaf\n"
          ],
          "name": "stdout"
        }
      ]
    },
    {
      "cell_type": "code",
      "metadata": {
        "id": "wxzJjxOMGcG_",
        "colab": {
          "base_uri": "https://localhost:8080/"
        },
        "outputId": "abc22af5-10d0-492a-ca69-16cf6a31316e"
      },
      "source": [
        "import numpy as np\n",
        "import cv2\n",
        "img = cv2.imread('dis_leaf (141)_iaip.jpg')\n",
        "print(img.shape)"
      ],
      "execution_count": 5,
      "outputs": [
        {
          "output_type": "stream",
          "text": [
            "(694, 694, 3)\n"
          ],
          "name": "stdout"
        }
      ]
    },
    {
      "cell_type": "code",
      "metadata": {
        "colab": {
          "base_uri": "https://localhost:8080/"
        },
        "id": "pMBY9NmpaZz7",
        "outputId": "40349631-c540-4501-9486-aa97a1bc2aab"
      },
      "source": [
        "cd ../../"
      ],
      "execution_count": 6,
      "outputs": [
        {
          "output_type": "stream",
          "text": [
            "/content/drive/MyDrive/cotton disease data\n"
          ],
          "name": "stdout"
        }
      ]
    },
    {
      "cell_type": "markdown",
      "metadata": {
        "id": "1mnePZhq3snA"
      },
      "source": [
        "## reading the data from directory and splitting the data into train,test and validation "
      ]
    },
    {
      "cell_type": "code",
      "metadata": {
        "id": "KUUrw35xatdV"
      },
      "source": [
        "img_width,img_height=100,100\n",
        "channel=3"
      ],
      "execution_count": 7,
      "outputs": []
    },
    {
      "cell_type": "code",
      "metadata": {
        "id": "epi9Ky-ta509"
      },
      "source": [
        "datagen=ImageDataGenerator(rescale=1/255)"
      ],
      "execution_count": 8,
      "outputs": []
    },
    {
      "cell_type": "code",
      "metadata": {
        "colab": {
          "base_uri": "https://localhost:8080/"
        },
        "id": "xdKlo7HEGcBK",
        "outputId": "9ca71002-35f0-4176-e133-d4f5e3b391ec"
      },
      "source": [
        "train_data_genetator=datagen.flow_from_directory('train/',target_size=(img_width,img_height),\n",
        "                                                 class_mode='categorical',color_mode=\"rgb\",batch_size=16)"
      ],
      "execution_count": 9,
      "outputs": [
        {
          "output_type": "stream",
          "text": [
            "Found 1951 images belonging to 4 classes.\n"
          ],
          "name": "stdout"
        }
      ]
    },
    {
      "cell_type": "code",
      "metadata": {
        "id": "ad2zbphSGb-Y",
        "colab": {
          "base_uri": "https://localhost:8080/"
        },
        "outputId": "c4d22389-c97b-46a4-9a1b-5cc5b5f511d2"
      },
      "source": [
        "test_data_genetator=datagen.flow_from_directory('test/',target_size=(img_width,img_height),\n",
        "                                                 class_mode='categorical',color_mode=\"rgb\",batch_size=16)"
      ],
      "execution_count": 10,
      "outputs": [
        {
          "output_type": "stream",
          "text": [
            "Found 18 images belonging to 4 classes.\n"
          ],
          "name": "stdout"
        }
      ]
    },
    {
      "cell_type": "code",
      "metadata": {
        "id": "GoVkjgM9Gb7g",
        "colab": {
          "base_uri": "https://localhost:8080/"
        },
        "outputId": "d896e8b8-f8d5-43ec-8b41-43638859387d"
      },
      "source": [
        "val_data_genetator=datagen.flow_from_directory('val/',target_size=(img_width,img_height),\n",
        "                                                 class_mode='categorical',color_mode=\"rgb\",batch_size=16)"
      ],
      "execution_count": 11,
      "outputs": [
        {
          "output_type": "stream",
          "text": [
            "Found 324 images belonging to 4 classes.\n"
          ],
          "name": "stdout"
        }
      ]
    },
    {
      "cell_type": "markdown",
      "metadata": {
        "id": "knINs4174GjS"
      },
      "source": [
        "## Using transfer learning VGG16 model"
      ]
    },
    {
      "cell_type": "code",
      "metadata": {
        "id": "Hl-QhXKWGb4r"
      },
      "source": [
        "from keras.applications.vgg16 import VGG16"
      ],
      "execution_count": 12,
      "outputs": []
    },
    {
      "cell_type": "code",
      "metadata": {
        "colab": {
          "base_uri": "https://localhost:8080/"
        },
        "id": "BeKEvSYrd77k",
        "outputId": "07d1b108-6c05-44a9-bb22-ec7c81c63192"
      },
      "source": [
        "model = VGG16(weights='imagenet',include_top=False,input_shape=(img_width,img_height,channel))"
      ],
      "execution_count": 13,
      "outputs": [
        {
          "output_type": "stream",
          "text": [
            "Downloading data from https://storage.googleapis.com/tensorflow/keras-applications/vgg16/vgg16_weights_tf_dim_ordering_tf_kernels_notop.h5\n",
            "58892288/58889256 [==============================] - 3s 0us/step\n"
          ],
          "name": "stdout"
        }
      ]
    },
    {
      "cell_type": "code",
      "metadata": {
        "id": "1H8FT0g1Gb2C"
      },
      "source": [
        "for layer in model.layers[:4]:\n",
        "  layer.trainable = False"
      ],
      "execution_count": 14,
      "outputs": []
    },
    {
      "cell_type": "code",
      "metadata": {
        "id": "CPp_uN1yfT2H"
      },
      "source": [
        "from keras.models import Model\n",
        "x = Flatten()(model.output)\n",
        "\n",
        "prediction = Dense(4, activation='softmax')(x)\n",
        "\n",
        "# create a model object\n",
        "model = Model(inputs=model.input, outputs=prediction)"
      ],
      "execution_count": 15,
      "outputs": []
    },
    {
      "cell_type": "code",
      "metadata": {
        "id": "hEcbcvjMfTzI"
      },
      "source": [
        "model.compile(optimizer='adam',loss='categorical_crossentropy',metrics=['accuracy'])"
      ],
      "execution_count": 16,
      "outputs": []
    },
    {
      "cell_type": "code",
      "metadata": {
        "colab": {
          "base_uri": "https://localhost:8080/"
        },
        "id": "QdDwP9iI90zB",
        "outputId": "b42bc367-bd8c-4faf-d139-ffb680a6e4ea"
      },
      "source": [
        "history=model.fit_generator(train_data_genetator,steps_per_epoch=len(train_data_genetator),epochs=20,validation_data=val_data_genetator,validation_steps=len(val_data_genetator))"
      ],
      "execution_count": 17,
      "outputs": [
        {
          "output_type": "stream",
          "text": [
            "/usr/local/lib/python3.7/dist-packages/tensorflow/python/keras/engine/training.py:1844: UserWarning: `Model.fit_generator` is deprecated and will be removed in a future version. Please use `Model.fit`, which supports generators.\n",
            "  warnings.warn('`Model.fit_generator` is deprecated and '\n"
          ],
          "name": "stderr"
        },
        {
          "output_type": "stream",
          "text": [
            "Epoch 1/20\n",
            "122/122 [==============================] - 1211s 10s/step - loss: 2.0688 - accuracy: 0.3843 - val_loss: 1.4617 - val_accuracy: 0.3117\n",
            "Epoch 2/20\n",
            "122/122 [==============================] - 16s 130ms/step - loss: 1.2191 - accuracy: 0.4593 - val_loss: 0.8746 - val_accuracy: 0.5648\n",
            "Epoch 3/20\n",
            "122/122 [==============================] - 16s 131ms/step - loss: 0.7948 - accuracy: 0.6575 - val_loss: 0.7627 - val_accuracy: 0.6265\n",
            "Epoch 4/20\n",
            "122/122 [==============================] - 16s 131ms/step - loss: 0.7588 - accuracy: 0.6594 - val_loss: 0.6961 - val_accuracy: 0.6728\n",
            "Epoch 5/20\n",
            "122/122 [==============================] - 16s 131ms/step - loss: 0.6767 - accuracy: 0.7458 - val_loss: 0.7341 - val_accuracy: 0.6975\n",
            "Epoch 6/20\n",
            "122/122 [==============================] - 16s 131ms/step - loss: 0.6103 - accuracy: 0.7704 - val_loss: 0.4964 - val_accuracy: 0.8179\n",
            "Epoch 7/20\n",
            "122/122 [==============================] - 16s 131ms/step - loss: 0.5453 - accuracy: 0.7759 - val_loss: 0.8684 - val_accuracy: 0.6543\n",
            "Epoch 8/20\n",
            "122/122 [==============================] - 16s 131ms/step - loss: 0.6354 - accuracy: 0.7439 - val_loss: 0.5299 - val_accuracy: 0.7685\n",
            "Epoch 9/20\n",
            "122/122 [==============================] - 16s 130ms/step - loss: 0.5068 - accuracy: 0.8024 - val_loss: 0.5097 - val_accuracy: 0.7994\n",
            "Epoch 10/20\n",
            "122/122 [==============================] - 16s 130ms/step - loss: 0.4794 - accuracy: 0.8199 - val_loss: 0.4127 - val_accuracy: 0.8210\n",
            "Epoch 11/20\n",
            "122/122 [==============================] - 16s 131ms/step - loss: 0.3997 - accuracy: 0.8497 - val_loss: 0.3085 - val_accuracy: 0.8796\n",
            "Epoch 12/20\n",
            "122/122 [==============================] - 16s 132ms/step - loss: 0.3970 - accuracy: 0.8472 - val_loss: 0.3526 - val_accuracy: 0.8611\n",
            "Epoch 13/20\n",
            "122/122 [==============================] - 16s 133ms/step - loss: 0.3950 - accuracy: 0.8394 - val_loss: 0.5971 - val_accuracy: 0.7562\n",
            "Epoch 14/20\n",
            "122/122 [==============================] - 16s 130ms/step - loss: 0.4796 - accuracy: 0.8163 - val_loss: 0.3862 - val_accuracy: 0.8488\n",
            "Epoch 15/20\n",
            "122/122 [==============================] - 16s 131ms/step - loss: 0.3425 - accuracy: 0.8616 - val_loss: 0.7151 - val_accuracy: 0.7099\n",
            "Epoch 16/20\n",
            "122/122 [==============================] - 16s 131ms/step - loss: 0.3552 - accuracy: 0.8573 - val_loss: 0.3733 - val_accuracy: 0.8426\n",
            "Epoch 17/20\n",
            "122/122 [==============================] - 16s 130ms/step - loss: 0.2657 - accuracy: 0.8968 - val_loss: 0.3404 - val_accuracy: 0.8827\n",
            "Epoch 18/20\n",
            "122/122 [==============================] - 16s 130ms/step - loss: 0.2293 - accuracy: 0.9200 - val_loss: 0.4227 - val_accuracy: 0.8549\n",
            "Epoch 19/20\n",
            "122/122 [==============================] - 16s 132ms/step - loss: 0.2583 - accuracy: 0.8972 - val_loss: 0.3831 - val_accuracy: 0.8457\n",
            "Epoch 20/20\n",
            "122/122 [==============================] - 16s 129ms/step - loss: 0.2617 - accuracy: 0.9005 - val_loss: 0.4307 - val_accuracy: 0.8549\n"
          ],
          "name": "stdout"
        }
      ]
    },
    {
      "cell_type": "code",
      "metadata": {
        "id": "qX4LMmujfTp1",
        "colab": {
          "base_uri": "https://localhost:8080/",
          "height": 573
        },
        "outputId": "063d83c5-1033-4010-ed68-7ab339c945f1"
      },
      "source": [
        "import matplotlib.pyplot as plt\n",
        "def plot_learningCurve(history, epoch):\n",
        "  # Plot training & validation accuracy values\n",
        "  epoch_range = range(1, epoch+1)\n",
        "  plt.plot(epoch_range, history.history['accuracy'])\n",
        "  plt.plot(epoch_range, history.history['val_accuracy'])\n",
        "  plt.title('Model accuracy')\n",
        "  plt.ylabel('Accuracy')\n",
        "  plt.xlabel('Epoch')\n",
        "  plt.legend(['Train', 'Val'], loc='upper left')\n",
        "  plt.show()\n",
        "\n",
        "  # Plot training & validation loss values\n",
        "  plt.plot(epoch_range, history.history['loss'])\n",
        "  plt.plot(epoch_range, history.history['val_loss'])\n",
        "  plt.title('Model loss')\n",
        "  plt.ylabel('Loss')\n",
        "  plt.xlabel('Epoch')\n",
        "  plt.legend(['Train', 'Val'], loc='upper left')\n",
        "  plt.show()\n",
        "\n",
        "plot_learningCurve(history, 20)"
      ],
      "execution_count": 18,
      "outputs": [
        {
          "output_type": "display_data",
          "data": {
            "image/png": "[encoded data removed]",
            "text/plain": [
              "<Figure size 432x288 with 1 Axes>"
            ]
          },
          "metadata": {
            "tags": [],
            "needs_background": "light"
          }
        },
        {
          "output_type": "display_data",
          "data": {
            "image/png": "[encoded data removed]",
            "text/plain": [
              "<Figure size 432x288 with 1 Axes>"
            ]
          },
          "metadata": {
            "tags": [],
            "needs_background": "light"
          }
        }
      ]
    },
    {
      "cell_type": "code",
      "metadata": {
        "id": "o4BN30NufTm1"
      },
      "source": [
        ""
      ],
      "execution_count": null,
      "outputs": []
    },
    {
      "cell_type": "code",
      "metadata": {
        "id": "ntdYB6OafTh6"
      },
      "source": [
        ""
      ],
      "execution_count": null,
      "outputs": []
    },
    {
      "cell_type": "code",
      "metadata": {
        "id": "PAb-8N3WfTfQ"
      },
      "source": [
        ""
      ],
      "execution_count": null,
      "outputs": []
    },
    {
      "cell_type": "code",
      "metadata": {
        "id": "HwKnydZtfTad"
      },
      "source": [
        ""
      ],
      "execution_count": null,
      "outputs": []
    },
    {
      "cell_type": "code",
      "metadata": {
        "id": "Pm6QW6HpGbwP"
      },
      "source": [
        ""
      ],
      "execution_count": null,
      "outputs": []
    },
    {
      "cell_type": "code",
      "metadata": {
        "id": "iDUKsbOBGa5N"
      },
      "source": [
        ""
      ],
      "execution_count": null,
      "outputs": []
    }
  ]
}